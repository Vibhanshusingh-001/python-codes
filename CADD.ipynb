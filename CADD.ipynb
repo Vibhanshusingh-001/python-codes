{
 "cells": [
  {
   "cell_type": "markdown",
   "id": "7e9075e0",
   "metadata": {},
   "source": [
    "# CADD"
   ]
  },
  {
   "cell_type": "code",
   "execution_count": 3,
   "id": "50e665cf",
   "metadata": {},
   "outputs": [
    {
     "name": "stdout",
     "output_type": "stream",
     "text": [
      "Molecular Weight: 46.069\n",
      "LogP: -0.0014000000000000123\n",
      "Number of H-Bond Donors: 1\n",
      "Number of H-Bond Acceptors: 1\n"
     ]
    },
    {
     "name": "stderr",
     "output_type": "stream",
     "text": [
      "[11:56:13] Molecule does not have explicit Hs. Consider calling AddHs()\n"
     ]
    },
    {
     "data": {
      "image/png": "[encoded data removed]",
      "text/plain": [
       "<PIL.PngImagePlugin.PngImageFile image mode=RGB size=300x300>"
      ]
     },
     "execution_count": 3,
     "metadata": {},
     "output_type": "execute_result"
    }
   ],
   "source": [
    "\n",
    "from rdkit import Chem\n",
    "from rdkit.Chem import AllChem\n",
    "from rdkit.Chem import Descriptors\n",
    "from rdkit.Chem import Draw\n",
    "\n",
    "# Create a molecule from a SMILES string\n",
    "molecule = Chem.MolFromSmiles('CCO')\n",
    "\n",
    "# Generate 3D coordinates for the molecule\n",
    "AllChem.EmbedMolecule(molecule)\n",
    "\n",
    "# Calculate Lipinski properties of the molecule\n",
    "mw = Descriptors.MolWt(molecule)\n",
    "logp = Descriptors.MolLogP(molecule)\n",
    "hbd = Descriptors.NumHDonors(molecule)\n",
    "hba = Descriptors.NumHAcceptors(molecule)\n",
    "\n",
    "# Print the Lipinski properties\n",
    "print(f'Molecular Weight: {mw}')\n",
    "print(f'LogP: {logp}')\n",
    "print(f'Number of H-Bond Donors: {hbd}')\n",
    "print(f'Number of H-Bond Acceptors: {hba}')\n",
    "\n",
    "# Visualize the molecule with 3D coordinates\n",
    "Draw.MolToImage(molecule, size=(300, 300))"
   ]
  },
  {
   "cell_type": "markdown",
   "id": "720bce4f",
   "metadata": {},
   "source": [
    "### jbfrwk"
   ]
  }
 ],
 "metadata": {
  "kernelspec": {
   "display_name": "Python 3 (ipykernel)",
   "language": "python",
   "name": "python3"
  },
  "language_info": {
   "codemirror_mode": {
    "name": "ipython",
    "version": 3
   },
   "file_extension": ".py",
   "mimetype": "text/x-python",
   "name": "python",
   "nbconvert_exporter": "python",
   "pygments_lexer": "ipython3",
   "version": "3.11.5"
  }
 },
 "nbformat": 4,
 "nbformat_minor": 5
}
