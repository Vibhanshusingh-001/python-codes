{
 "cells": [
  {
   "cell_type": "code",
   "execution_count": null,
   "id": "99ac19b6",
   "metadata": {},
   "outputs": [],
   "source": [
    "from rdkit import Chem\n",
    "from rdkit.Chem import Draw\n",
    "from rdkit.Chem import Descriptors\n",
    "\n",
    "# Load a molecule from a SMILES string\n",
    "smiles = 'CCO'  # Ethanol\n",
    "molecule = Chem.MolFromSmiles(smiles)\n",
    "\n",
    "# Visualize the molecule\n",
    "image = Draw.MolToImage(molecule)\n",
    "image.show()\n",
    "\n",
    "# Compute some molecular properties\n",
    "mol_weight = Descriptors.MolWt(molecule)\n",
    "logp = Descriptors.MolLogP(molecule)\n",
    "num_h_donors = Descriptors.NumHDonors(molecule)\n",
    "num_h_acceptors = Descriptors.NumHAcceptors(molecule)\n",
    "\n",
    "print(f\"Molecular Weight: {mol_weight}\")\n",
    "print(f\"LogP: {logp}\")\n",
    "print(f\"Number of Hydrogen Donors: {num_h_donors}\")\n",
    "print(f\"Number of Hydrogen Acceptors: {num_h_acceptors}\")\n"
   ]
  },
  {
   "cell_type": "code",
   "execution_count": null,
   "id": "166d999c",
   "metadata": {},
   "outputs": [],
   "source": []
  }
 ],
 "metadata": {
  "kernelspec": {
   "display_name": "Python 3 (ipykernel)",
   "language": "python",
   "name": "python3"
  },
  "language_info": {
   "codemirror_mode": {
    "name": "ipython",
    "version": 3
   },
   "file_extension": ".py",
   "mimetype": "text/x-python",
   "name": "python",
   "nbconvert_exporter": "python",
   "pygments_lexer": "ipython3",
   "version": "3.11.5"
  }
 },
 "nbformat": 4,
 "nbformat_minor": 5
}
