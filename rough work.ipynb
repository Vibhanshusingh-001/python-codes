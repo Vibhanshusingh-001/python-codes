{
 "cells": [
  {
   "cell_type": "code",
   "execution_count": 1,
   "id": "bc8620a8",
   "metadata": {},
   "outputs": [
    {
     "name": "stdout",
     "output_type": "stream",
     "text": [
      "Words containing 'o': ['brown', 'fox', 'over', 'dog']\n"
     ]
    }
   ],
   "source": [
    "import re\n",
    "\n",
    "# Define a text string\n",
    "text = \"The quick brown fox jumps over the lazy dog.\"\n",
    "\n",
    "# Define a regular expression pattern to search for words containing 'o'\n",
    "pattern = r'\\b\\w*o\\w*\\b'\n",
    "\n",
    "# Use re.findall() to find all matches of the pattern in the text\n",
    "matches = re.findall(pattern, text)\n",
    "\n",
    "# Print the matches\n",
    "print(\"Words containing 'o':\", matches)"
   ]
  },
  {
   "cell_type": "code",
   "execution_count": null,
   "id": "911aea87",
   "metadata": {},
   "outputs": [],
   "source": []
  }
 ],
 "metadata": {
  "kernelspec": {
   "display_name": "Python 3 (ipykernel)",
   "language": "python",
   "name": "python3"
  },
  "language_info": {
   "codemirror_mode": {
    "name": "ipython",
    "version": 3
   },
   "file_extension": ".py",
   "mimetype": "text/x-python",
   "name": "python",
   "nbconvert_exporter": "python",
   "pygments_lexer": "ipython3",
   "version": "3.11.5"
  }
 },
 "nbformat": 4,
 "nbformat_minor": 5
}
