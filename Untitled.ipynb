{
 "cells": [
  {
   "cell_type": "code",
   "execution_count": 4,
   "id": "e151877e",
   "metadata": {},
   "outputs": [
    {
     "name": "stdout",
     "output_type": "stream",
     "text": [
      "<_io.TextIOWrapper name='myfile.txt' mode='r' encoding='cp1252'>\n",
      "lkjhgfds poiuyrew\n"
     ]
    }
   ],
   "source": [
    "f=open('myfile.txt','r')#opening a file\n",
    "print(f)\n",
    "#reading a file\n",
    "text=f.read()\n",
    "print(text)\n",
    "f.close()\n"
   ]
  },
  {
   "cell_type": "code",
   "execution_count": 10,
   "id": "623adc42",
   "metadata": {},
   "outputs": [
    {
     "name": "stdout",
     "output_type": "stream",
     "text": [
      "lkjhgfds poiuyrewhello ashok bsdkhello ashok bsdkhello ashok bsdkhello ashok bsdk\n"
     ]
    }
   ],
   "source": [
    "#writing a file\n",
    "f=open('myfile.txt','r')\n",
    "#f.write(\"hello ashok bsdk\")\n",
    "text=f.read()\n",
    "print(text)\n",
    "f.close()\n"
   ]
  },
  {
   "cell_type": "code",
   "execution_count": null,
   "id": "ebb41d84",
   "metadata": {},
   "outputs": [],
   "source": []
  }
 ],
 "metadata": {
  "kernelspec": {
   "display_name": "Python 3 (ipykernel)",
   "language": "python",
   "name": "python3"
  },
  "language_info": {
   "codemirror_mode": {
    "name": "ipython",
    "version": 3
   },
   "file_extension": ".py",
   "mimetype": "text/x-python",
   "name": "python",
   "nbconvert_exporter": "python",
   "pygments_lexer": "ipython3",
   "version": "3.11.5"
  }
 },
 "nbformat": 4,
 "nbformat_minor": 5
}
