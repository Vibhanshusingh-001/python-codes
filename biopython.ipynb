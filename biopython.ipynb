{
 "cells": [
  {
   "cell_type": "markdown",
   "id": "d6be0c76",
   "metadata": {},
   "source": [
    "# CODE USING BIO.SEQRECORD"
   ]
  },
  {
   "cell_type": "code",
   "execution_count": 2,
   "id": "1bf95920",
   "metadata": {},
   "outputs": [
    {
     "name": "stdout",
     "output_type": "stream",
     "text": [
      "ID: example_id\n",
      "Name: <unknown name>\n",
      "Description: Example DNA sequence\n",
      "Number of features: 0\n",
      "Seq('ATCGATCGATCG')\n"
     ]
    }
   ],
   "source": [
    "from Bio.Seq import Seq\n",
    "from Bio.SeqRecord import SeqRecord\n",
    "\n",
    "# Create a DNA sequence\n",
    "dna_sequence = Seq(\"ATCGATCGATCG\" )  # No need to specify the alphabet\n",
    "\n",
    "# Create a SeqRecord with the DNA sequence\n",
    "seq_record = SeqRecord(dna_sequence, id=\"example_id\", description=\"Example DNA sequence\")\n",
    "\n",
    "# Print the SeqRecord\n",
    "print(seq_record)\n",
    "\n",
    "\n"
   ]
  },
  {
   "cell_type": "markdown",
   "id": "b869f052",
   "metadata": {},
   "source": [
    "# Translating DNA Sequence to Protein Sequence"
   ]
  },
  {
   "cell_type": "code",
   "execution_count": 1,
   "id": "4a618403",
   "metadata": {},
   "outputs": [
    {
     "name": "stdout",
     "output_type": "stream",
     "text": [
      "Protein Sequence: MAIVMGR*KGAR*\n"
     ]
    }
   ],
   "source": [
    "from Bio.Seq import Seq\n",
    "\n",
    "# Define a DNA sequence\n",
    "dna_sequence = Seq(\"ATGGCCATTGTAATGGGCCGCTGAAAGGGTGCCCGATAG\")\n",
    "\n",
    "# Translate DNA to protein sequence\n",
    "protein_sequence = dna_sequence.translate()\n",
    "print(\"Protein Sequence:\", protein_sequence)\n"
   ]
  },
  {
   "cell_type": "markdown",
   "id": "ea3459a6",
   "metadata": {},
   "source": [
    "# DNA SEQUENCE TO RNA SEQUENCE AND PROTEIN SEQUENCE "
   ]
  },
  {
   "cell_type": "code",
   "execution_count": 6,
   "id": "1b9d79b5",
   "metadata": {},
   "outputs": [
    {
     "name": "stdout",
     "output_type": "stream",
     "text": [
      "Original DNA Sequence: ATGCGTCGAGCGATCGATCGATCGATCGATC\n",
      "Transcribed RNA Sequence: AUGCGUCGAGCGAUCGAUCGAUCGAUCGAUC\n",
      "Translated Protein Sequence: MRRAIDRSID\n"
     ]
    },
    {
     "name": "stderr",
     "output_type": "stream",
     "text": [
      "C:\\Users\\vibha\\anaconda3\\Lib\\site-packages\\Bio\\Seq.py:2880: BiopythonWarning: Partial codon, len(sequence) not a multiple of three. Explicitly trim the sequence or add trailing N before translation. This may become an error in future.\n",
      "  warnings.warn(\n"
     ]
    }
   ],
   "source": [
    "import Bio\n",
    "from Bio.Seq import Seq\n",
    "\n",
    "# Create a DNA sequence\n",
    "dna_seq = Seq(\"ATGCGTCGAGCGATCGATCGATCGATCGATC\")\n",
    "\n",
    "# Transcribe DNA to RNA\n",
    "rna_seq = dna_seq.transcribe()\n",
    "\n",
    "# Translate RNA to Protein\n",
    "protein_seq = rna_seq.translate()\n",
    "\n",
    "print(\"Original DNA Sequence:\", dna_seq)\n",
    "print(\"Transcribed RNA Sequence:\", rna_seq)\n",
    "print(\"Translated Protein Sequence:\", protein_seq)\n"
   ]
  },
  {
   "cell_type": "code",
   "execution_count": null,
   "id": "69c0be72",
   "metadata": {},
   "outputs": [],
   "source": [
    "from rdkit import Chem\n",
    "from rdkit.Chem import Draw\n",
    "\n",
    "# Create a molecule from a SMILES string\n",
    "mol = Chem.MolFromSmiles('CCO')\n",
    "\n",
    "# Generate 2D structure diagram for the molecule\n",
    "img = Draw.MolToImage(mol)\n",
    "\n",
    "# Show the image\n",
    "img.show()\n"
   ]
  },
  {
   "cell_type": "code",
   "execution_count": null,
   "id": "854c4408",
   "metadata": {},
   "outputs": [],
   "source": []
  }
 ],
 "metadata": {
  "kernelspec": {
   "display_name": "Python 3 (ipykernel)",
   "language": "python",
   "name": "python3"
  },
  "language_info": {
   "codemirror_mode": {
    "name": "ipython",
    "version": 3
   },
   "file_extension": ".py",
   "mimetype": "text/x-python",
   "name": "python",
   "nbconvert_exporter": "python",
   "pygments_lexer": "ipython3",
   "version": "3.11.5"
  }
 },
 "nbformat": 4,
 "nbformat_minor": 5
}
